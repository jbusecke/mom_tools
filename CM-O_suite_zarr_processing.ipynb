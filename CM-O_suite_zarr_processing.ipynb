{
 "cells": [
  {
   "cell_type": "code",
   "execution_count": 1,
   "metadata": {},
   "outputs": [],
   "source": [
    "import xarray as xr\n",
    "import matplotlib.pyplot as plt\n",
    "from mom_read import open_mom5_CM_ESM\n",
    "from xarrayutils.utils import concat_dim_da\n",
    "from dask.diagnostics import ProgressBar\n",
    "import os"
   ]
  },
  {
   "cell_type": "code",
   "execution_count": 2,
   "metadata": {},
   "outputs": [],
   "source": [
    "runnames = ['control', 'forced']\n",
    "years = range(181,201)"
   ]
  },
  {
   "cell_type": "code",
   "execution_count": 3,
   "metadata": {},
   "outputs": [],
   "source": [
    "# cm21_varlist =['ocean', 'ocean_minibling_adv', 'ocean_minibling_term', 'ocean_minibling_upper_100m'] # This is a bit different in CM2.6...lets unify this..., #'ocean_trans', 'ocean_budgets', \n",
    "# cm21_reftime = 'ocean_minibling_term'\n",
    "# cm21_gridfile = '/work/Julius.Busecke/CM2.1/siena_201303_fix_rds/static/grid_complete.nc'\n",
    "\n",
    "# ddir_cm21_control = '/work/Julius.Busecke/CM2.1/siena_201303_fix_rds/CM_O1p0_C180_A02-topaz-bling-minibling-ctrl-restart_bgc/pp'\n",
    "# ddir_cm21_forced ='/work/Julius.Busecke/CM2.1/siena_201303_fix_rds/CM_O1p0_C180_A02-topaz-bling-minibling-one_percent-restart_bgc/pp'\n",
    "\n",
    "# ds_cm21 = xr.concat([open_mom5_CM_ESM(dd, varfolderlist=cm21_varlist, gridfile=cm21_gridfile, years=years) for dd in [ddir_cm21_control, ddir_cm21_forced]],\n",
    "#                    concat_dim_da(runnames, 'run'))\n",
    "# # ds_cm21"
   ]
  },
  {
   "cell_type": "code",
   "execution_count": 4,
   "metadata": {},
   "outputs": [
    {
     "name": "stdout",
     "output_type": "stream",
     "text": [
      "reading ocean\n",
      "None\n",
      "adding offset of 2000 to time\n",
      "decode_times: False\n",
      "timesteps: 240\n",
      "reading minibling\n",
      "None\n",
      "adding offset of 2000 to time\n",
      "decode_times: False\n",
      "timesteps: 240\n",
      "reading minibling_term\n",
      "None\n",
      "adding offset of 2000 to time\n",
      "decode_times: False\n",
      "adding offset of 2000 to time\n",
      "decode_times: False\n",
      "timesteps: 240\n",
      "reading minibling_adv\n",
      "None\n",
      "adding offset of 2000 to time\n",
      "decode_times: False\n",
      "timesteps: 240\n",
      "reading ocean\n",
      "None\n",
      "adding offset of 2000 to time\n",
      "decode_times: False\n",
      "timesteps: 240\n",
      "reading minibling\n",
      "None\n",
      "adding offset of 2000 to time\n",
      "decode_times: False\n",
      "timesteps: 240\n",
      "reading minibling_term\n",
      "None\n",
      "adding offset of 2000 to time\n",
      "decode_times: False\n",
      "adding offset of 2000 to time\n",
      "decode_times: False\n",
      "timesteps: 240\n",
      "reading minibling_adv\n",
      "None\n",
      "adding offset of 2000 to time\n",
      "decode_times: False\n",
      "timesteps: 240\n"
     ]
    }
   ],
   "source": [
    "# cm26_varlist = None#['ocean', 'minibling', 'minibling_term'] # This is a bit different in CM2.6...lets unify this...\n",
    "cm26_varlist =['ocean', 'minibling', 'minibling_term', 'minibling_adv'] # This is a bit different in CM2.6...lets unify this...\n",
    "cm26_reftime = 'minibling'\n",
    "cm26_gridfile = '/work/Julius.Busecke/CM2.6/static/grid_complete.nc'\n",
    "\n",
    "ddir_cm26_control = '/work/Julius.Busecke/CM2.6/CM2.6_A_Control-1860_V03/pp'\n",
    "ddir_cm26_forced ='/work/Julius.Busecke/CM2.6/CM2.6_A_V03_1PctTo2X/pp'\n",
    "\n",
    "ds_cm26 = xr.concat([open_mom5_CM_ESM(dd, varfolderlist=cm26_varlist, gridfile=cm26_gridfile, years=years) for dd in [ddir_cm26_control, ddir_cm26_forced]],\n",
    "                   concat_dim_da(runnames, 'run'))\n",
    "# ds_cm26"
   ]
  },
  {
   "cell_type": "code",
   "execution_count": 5,
   "metadata": {},
   "outputs": [],
   "source": [
    "# esm26_varlist = None # This is a bit different in CM2.6...lets unify this...\n",
    "# esm26_reftime = None\n",
    "# esm26_gridfile = '/work/Julius.Busecke/CM2.6/static/grid_complete.nc'\n",
    "\n",
    "# ddir_esm26_control = '/work/Julius.Busecke/ESM2.6/ESM2.6_A_Control-1990_V04_COBALT_newagg16/pp/'\n",
    "\n",
    "# ds_esm26 = open_mom5_CM_ESM(ddir_esm26_control, varfolderlist=esm26_varlist, gridfile=esm26_gridfile,\n",
    "#                             years=years, switch_year_name=True, force_varlist=True)\n",
    "# # ds_esm26"
   ]
  },
  {
   "cell_type": "code",
   "execution_count": 6,
   "metadata": {},
   "outputs": [],
   "source": [
    "def save_as_zarr(ds, filename):\n",
    "    # Rechunk the dataset  (aiming for 100MB chunk size, as per dask recommendations)\n",
    "    # I could also at some point play with larger chunks in time I guess...\n",
    "    ds = ds.chunk({'xt_ocean':1000, 'xu_ocean':1000, 'yt_ocean':500, 'yu_ocean':500})\n",
    "    print('Saving: %s' %filename)\n",
    "    with ProgressBar():\n",
    "        ds.to_zarr(filename, mode='w')"
   ]
  },
  {
   "cell_type": "code",
   "execution_count": 8,
   "metadata": {},
   "outputs": [],
   "source": [
    "# model_names = ['CM21deg', 'CM26']\n",
    "# model_datasets = [ds_cm21, ds_cm26]\n",
    "# model_paths = ['/work/Julius.Busecke/zarr_conversions' for m in model_name]\n",
    "\n",
    "model_names = ['CM26']\n",
    "model_datasets = [ds_cm26]\n",
    "model_paths = ['/work/Julius.Busecke/zarr_conversions' for m in model_names]"
   ]
  },
  {
   "cell_type": "code",
   "execution_count": null,
   "metadata": {},
   "outputs": [
    {
     "name": "stdout",
     "output_type": "stream",
     "text": [
      "Saving: /work/Julius.Busecke/zarr_conversions/CM26.zarr\n",
      "[##########                              ] | 26% Completed |  2hr 57min 44.0s"
     ]
    }
   ],
   "source": [
    "for name, ds, path in zip(model_names, model_datasets, model_paths):\n",
    "    filepath = os.path.join(path, '%s.zarr' %name)\n",
    "    save_as_zarr(ds, filepath)"
   ]
  },
  {
   "cell_type": "code",
   "execution_count": 10,
   "metadata": {},
   "outputs": [
    {
     "data": {
      "text/plain": [
       "['CM26']"
      ]
     },
     "execution_count": 10,
     "metadata": {},
     "output_type": "execute_result"
    }
   ],
   "source": [
    "model_names"
   ]
  },
  {
   "cell_type": "code",
   "execution_count": null,
   "metadata": {},
   "outputs": [],
   "source": []
  }
 ],
 "metadata": {
  "kernelspec": {
   "display_name": "Python 3",
   "language": "python",
   "name": "python3"
  },
  "language_info": {
   "codemirror_mode": {
    "name": "ipython",
    "version": 3
   },
   "file_extension": ".py",
   "mimetype": "text/x-python",
   "name": "python",
   "nbconvert_exporter": "python",
   "pygments_lexer": "ipython3",
   "version": "3.7.4"
  }
 },
 "nbformat": 4,
 "nbformat_minor": 4
}
