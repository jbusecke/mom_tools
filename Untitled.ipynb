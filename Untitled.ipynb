{
 "cells": [
  {
   "cell_type": "code",
   "execution_count": 1,
   "metadata": {},
   "outputs": [],
   "source": [
    "# Testing why assigning coordinates takes so damn long."
   ]
  },
  {
   "cell_type": "code",
   "execution_count": 3,
   "metadata": {},
   "outputs": [],
   "source": [
    "import dask.array as dsa\n",
    "import numpy as np\n",
    "import xarray as xr"
   ]
  },
  {
   "cell_type": "code",
   "execution_count": 22,
   "metadata": {},
   "outputs": [
    {
     "data": {
      "text/plain": [
       "<xarray.Dataset>\n",
       "Dimensions:  (time: 400, x: 2000, y: 3000)\n",
       "Coordinates:\n",
       "  * x        (x) int64 0 1 2 3 4 5 6 7 ... 1993 1994 1995 1996 1997 1998 1999\n",
       "  * y        (y) int64 0 1 2 3 4 5 6 7 ... 2993 2994 2995 2996 2997 2998 2999\n",
       "  * time     (time) int64 0 1 2 3 4 5 6 7 8 ... 392 393 394 395 396 397 398 399\n",
       "Data variables:\n",
       "    data     (x, y, time) float64 dask.array<shape=(2000, 3000, 400), chunksize=(250, 250, 200)>"
      ]
     },
     "execution_count": 22,
     "metadata": {},
     "output_type": "execute_result"
    }
   ],
   "source": [
    "x = np.arange(2000)\n",
    "y = np.arange(3000)\n",
    "t = np.arange(400)\n",
    "data = dsa.random.random([len(x), len(y), len(t)])\n",
    "data_add = dsa.random.random([len(x), len(y), len(t)])\n",
    "\n",
    "a = xr.DataArray(np.random.rand(len(x), len(y)), coords=[('x', x), ('y', y)])\n",
    "b = xr.DataArray(dsa.random.random([len(y), len(t)]), coords=[('y', y), ('time', t)])\n",
    "\n",
    "\n",
    "da = xr.DataArray(data, coords=[('x', x), ('y', y), ('time', t)])\n",
    "da_add = xr.DataArray(data_add, coords=[('x', x), ('y', y), ('time', t)])\n",
    "\n",
    "\n",
    "ds = xr.Dataset({'data':da})\n",
    "ds"
   ]
  },
  {
   "cell_type": "code",
   "execution_count": 23,
   "metadata": {},
   "outputs": [
    {
     "name": "stdout",
     "output_type": "stream",
     "text": [
      "CPU times: user 0 ns, sys: 0 ns, total: 0 ns\n",
      "Wall time: 894 µs\n"
     ]
    }
   ],
   "source": [
    "%%time\n",
    "ds['new'] = da_add"
   ]
  },
  {
   "cell_type": "code",
   "execution_count": 24,
   "metadata": {},
   "outputs": [
    {
     "name": "stdout",
     "output_type": "stream",
     "text": [
      "CPU times: user 1 ms, sys: 0 ns, total: 1 ms\n",
      "Wall time: 745 µs\n"
     ]
    }
   ],
   "source": [
    "%%time\n",
    "ds.coords['new'] = da_add"
   ]
  },
  {
   "cell_type": "code",
   "execution_count": 25,
   "metadata": {},
   "outputs": [
    {
     "name": "stdout",
     "output_type": "stream",
     "text": [
      "CPU times: user 45.1 s, sys: 6.83 s, total: 51.9 s\n",
      "Wall time: 52 s\n"
     ]
    }
   ],
   "source": [
    "%%time\n",
    "ds['new'] = da_add + a / b"
   ]
  },
  {
   "cell_type": "code",
   "execution_count": 26,
   "metadata": {},
   "outputs": [
    {
     "name": "stdout",
     "output_type": "stream",
     "text": [
      "CPU times: user 45 s, sys: 7.85 s, total: 52.8 s\n",
      "Wall time: 52.8 s\n"
     ]
    }
   ],
   "source": [
    "%%time\n",
    "ds.coords['new'] = da_add + a / b"
   ]
  },
  {
   "cell_type": "code",
   "execution_count": null,
   "metadata": {},
   "outputs": [],
   "source": []
  }
 ],
 "metadata": {
  "kernelspec": {
   "display_name": "Python 3",
   "language": "python",
   "name": "python3"
  },
  "language_info": {
   "codemirror_mode": {
    "name": "ipython",
    "version": 3
   },
   "file_extension": ".py",
   "mimetype": "text/x-python",
   "name": "python",
   "nbconvert_exporter": "python",
   "pygments_lexer": "ipython3",
   "version": "3.6.7"
  }
 },
 "nbformat": 4,
 "nbformat_minor": 2
}
